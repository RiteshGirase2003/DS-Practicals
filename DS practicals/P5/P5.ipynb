{
 "cells": [
  {
   "cell_type": "code",
   "execution_count": 4,
   "id": "fb38e971",
   "metadata": {},
   "outputs": [
    {
     "name": "stdout",
     "output_type": "stream",
     "text": [
      "Confusion Matrix:\n",
      "[[50  2]\n",
      " [ 7 21]]\n",
      "Precision: 0.9130434782608695\n",
      "Recall: 0.75\n",
      "F1 Score: 0.8235294117647057\n",
      "Accuracy: 0.8875\n"
     ]
    }
   ],
   "source": [
    "import numpy as np\n",
    "import pandas as pd\n",
    "from sklearn.model_selection import train_test_split\n",
    "from sklearn.preprocessing import StandardScaler\n",
    "from sklearn.linear_model import LogisticRegression\n",
    "from sklearn.metrics import confusion_matrix, accuracy_score, precision_score, recall_score, f1_score\n",
    "\n",
    "# Load the dataset\n",
    "data = pd.read_csv('Social_Network_Ads.csv')\n",
    "\n",
    "# Data preprocessing\n",
    "# Encode categorical variable 'Gender'\n",
    "data['Gender'] = data['Gender'].apply(lambda x: 1 if x == 'Male' else 0)\n",
    "\n",
    "# Select features and target variable\n",
    "x_ind = data[['Gender', 'Age', 'EstimatedSalary']]\n",
    "y_dep = data['Purchased']\n",
    "\n",
    "# Split the data into training and testing sets\n",
    "x_train, x_test, y_train, y_test = train_test_split(x_ind, y_dep, test_size=0.2, random_state=42)\n",
    "\n",
    "# Feature scaling\n",
    "#  Feature scaling is a technique used to standardize the range of independent variables or features of the data\n",
    "# It's important because many machine learning algorithms perform better or converge faster when features are on a relatively similar scale and close to normally distributed.\n",
    "# StandardScaler is a method for standardizing features by removing the mean and scaling to unit variance. It transforms the data such that it has a mean of 0 and a standard deviation of 1.\n",
    "sc = StandardScaler()\n",
    "x_train = sc.fit_transform(x_train)\n",
    "x_test = sc.transform(x_test)\n",
    "\n",
    "# Train the logistic regression model\n",
    "logreg = LogisticRegression()\n",
    "logreg.fit(x_train, y_train)\n",
    "\n",
    "# Make predictions on the testing set\n",
    "y_pred = logreg.predict(x_test)\n",
    "\n",
    "# Compute metrics\n",
    "cm = confusion_matrix(y_test, y_pred)\n",
    "precision = precision_score(y_test, y_pred)\n",
    "recall = recall_score(y_test, y_pred)\n",
    "f1 = f1_score(y_test, y_pred)\n",
    "accuracy = accuracy_score(y_test, y_pred)\n",
    "\n",
    "print(\"Confusion Matrix:\")\n",
    "print(cm)\n",
    "print(\"Precision:\", precision)\n",
    "print(\"Recall:\", recall)\n",
    "print(\"F1 Score:\", f1)\n",
    "print(\"Accuracy:\", accuracy)\n"
   ]
  },
  {
   "cell_type": "code",
   "execution_count": null,
   "id": "bbf13b15",
   "metadata": {},
   "outputs": [],
   "source": []
  }
 ],
 "metadata": {
  "kernelspec": {
   "display_name": "Python 3 (ipykernel)",
   "language": "python",
   "name": "python3"
  },
  "language_info": {
   "codemirror_mode": {
    "name": "ipython",
    "version": 3
   },
   "file_extension": ".py",
   "mimetype": "text/x-python",
   "name": "python",
   "nbconvert_exporter": "python",
   "pygments_lexer": "ipython3",
   "version": "3.11.2"
  }
 },
 "nbformat": 4,
 "nbformat_minor": 5
}
